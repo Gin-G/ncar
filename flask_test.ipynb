from flask import Flask, render_template 
import xarray as xr
import numpy as np
import matplotlib.pyplot as plt
import panel as pn
import param
pn.extension()

app = Flask(__name__) 

def rank_plot(ds,v,exp,nx,ax=None):
    
    if not ax:
        fig=plt.figure()
        ax=fig.add_subplot()
        

    da=abs(ds[v].sel(exp=exp,ens='max')-ds[v].sel(exp=exp,ens='min'))
    ix=da.argsort().values[-nx:]

    ax.plot(ds[v].sel(exp=exp,param='default'),[0,nx-1],'k:',label='default')
    ax.scatter(ds[v].sel(exp=exp,ens='min').isel(param=ix),range(nx),marker='o',facecolors='none', edgecolors='r',label='min')
    ax.plot(   ds[v].sel(exp=exp,ens='max').isel(param=ix),range(nx),'ro',label='max')

    for i,j in enumerate(ix):
        xmin,xmax=ds[v].sel(exp=exp).isel(param=j)
        ax.plot([xmin,xmax],[i,i],'r')
    ax.set_yticks(range(nx))
    ax.set_yticklabels([p[:15] for p in ds.param[ix].values]);
    ax.set_xlabel(v +' ['+ds[v].units+']')
    ax.set_title(exp)
    
def twoplots(ds,v1,v2,e1,e2):
    fig=plt.Figure(figsize=[9,5])
    ax=fig.add_subplot(121)
    rank_plot(ds,v1,e1,8,ax=ax)
    ax.legend()
    ax=fig.add_subplot(122)
    rank_plot(ds,v2,e2,8,ax=ax)
    fig.subplots_adjust(left=0.2,wspace=0.6)
    
    return fig

ds=xr.open_dataset('ppe_viz.nc')
class Selections(param.Parameterized):
    
    dvs=[v for v in ds.data_vars]
    exps=list(ds.exp.values)
    
    v1   = param.Selector(objects=dvs)
    exp1 = param.Selector(objects=exps)
    v2   = param.Selector(objects=dvs)
    exp2 = param.Selector(objects=exps)


    def view(self):
        return twoplots(ds,self.v1,self.v2,self.exp1,self.exp2)

@app.route("/app") 
def hello(): 
    return 'Hello, World!'

def panel_app():
    obj = Selections()
    pn.Row(obj.view,obj.param)
    return pn.Row(obj.view,obj.param).servable()

pn.serve({'/flask': app, 'panel': panel_app}, allow_websocket_origin=["127.0.0.1:5001"], port=5001)
